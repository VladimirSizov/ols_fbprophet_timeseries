{
 "cells": [
  {
   "cell_type": "markdown",
   "metadata": {},
   "source": [
    "# Кластеризация K-средних\n",
    "автор: [Владимир Сизов](mailto:vladimirsizov@yandex.ru)\n",
    "\n",
    "Кластеризация K-средних распространённый алгоритм неконтролируемого машинного обучения.  \n",
    "Определение кластеров осуществляется на схожести данных у экземпляров. \n",
    "\n",
    "Я изучил в теории принцип его работы, однако я хотел детально разобраться как эта магия работает. Для меня проще всего это сделать, если разобрать его на кусочки и смотреть как себя ведут данные в каждом блоке кода.\n",
    "\n",
    "Ниже мы подробно рассмотрим метод подбора координат центройдов, разделения данных на кластеры, а также нарисуем результат на графике.\n",
    "\n",
    "<hr>\n",
    "\n",
    "Для работы этого алгоритма необходимо заранее определить количество кластеров.  "
   ]
  },
  {
   "cell_type": "markdown",
   "metadata": {},
   "source": [
    "Импортируем необходимые библиотеки"
   ]
  },
  {
   "cell_type": "code",
   "execution_count": 63,
   "metadata": {},
   "outputs": [],
   "source": [
    "import pandas as pd\n",
    "import numpy as np\n",
    "import statistics\n",
    "\n",
    "import seaborn as sns\n",
    "sns.set(style='whitegrid', rc={'figure.figsize': (7, 7)})"
   ]
  },
  {
   "cell_type": "markdown",
   "metadata": {},
   "source": [
    "При использовании этого алгоритма данные для кластеризации можно задавать в формате: \\[x, y, z, ...\\] \n",
    "\n",
    "В качестве примера мы сгенерируем двумерный массив \\[x, y\\]"
   ]
  },
  {
   "cell_type": "code",
   "execution_count": 64,
   "metadata": {
    "scrolled": true
   },
   "outputs": [
    {
     "data": {
      "text/html": [
       "<div>\n",
       "<style scoped>\n",
       "    .dataframe tbody tr th:only-of-type {\n",
       "        vertical-align: middle;\n",
       "    }\n",
       "\n",
       "    .dataframe tbody tr th {\n",
       "        vertical-align: top;\n",
       "    }\n",
       "\n",
       "    .dataframe thead th {\n",
       "        text-align: right;\n",
       "    }\n",
       "</style>\n",
       "<table border=\"1\" class=\"dataframe\">\n",
       "  <thead>\n",
       "    <tr style=\"text-align: right;\">\n",
       "      <th></th>\n",
       "      <th>x</th>\n",
       "      <th>y</th>\n",
       "    </tr>\n",
       "  </thead>\n",
       "  <tbody>\n",
       "    <tr>\n",
       "      <th>0</th>\n",
       "      <td>4.276266</td>\n",
       "      <td>1.382421</td>\n",
       "    </tr>\n",
       "    <tr>\n",
       "      <th>1</th>\n",
       "      <td>2.145372</td>\n",
       "      <td>7.683220</td>\n",
       "    </tr>\n",
       "    <tr>\n",
       "      <th>2</th>\n",
       "      <td>4.623901</td>\n",
       "      <td>3.177418</td>\n",
       "    </tr>\n",
       "    <tr>\n",
       "      <th>3</th>\n",
       "      <td>5.145311</td>\n",
       "      <td>2.028150</td>\n",
       "    </tr>\n",
       "    <tr>\n",
       "      <th>4</th>\n",
       "      <td>5.037190</td>\n",
       "      <td>3.780744</td>\n",
       "    </tr>\n",
       "  </tbody>\n",
       "</table>\n",
       "</div>"
      ],
      "text/plain": [
       "          x         y\n",
       "0  4.276266  1.382421\n",
       "1  2.145372  7.683220\n",
       "2  4.623901  3.177418\n",
       "3  5.145311  2.028150\n",
       "4  5.037190  3.780744"
      ]
     },
     "execution_count": 64,
     "metadata": {},
     "output_type": "execute_result"
    }
   ],
   "source": [
    "np.random.seed(17)\n",
    "\n",
    "x = [4, 6, 10, 13]\n",
    "y = [3, 9, 14, 10]\n",
    "\n",
    "cluster_x = []\n",
    "cluster_y = []\n",
    "\n",
    "for i in zip(x, y):\n",
    "    cluster_x.append(np.random.normal(i[0], 1, 40))\n",
    "    cluster_y.append(np.random.normal(i[1], 1.4, 40))\n",
    "\n",
    "x = np.concatenate(cluster_x)\n",
    "y = np.concatenate(cluster_y)\n",
    "\n",
    "df = pd.DataFrame([i for i in zip(x, y)], columns=['x', 'y'])\n",
    "df.head()"
   ]
  },
  {
   "cell_type": "markdown",
   "metadata": {},
   "source": [
    "Посмотрим как данные выглядят на графике:"
   ]
  },
  {
   "cell_type": "code",
   "execution_count": 65,
   "metadata": {
    "scrolled": false
   },
   "outputs": [
    {
     "data": {
      "image/png": "[encoded data removed]",
      "text/plain": [
       "<Figure size 700x700 with 1 Axes>"
      ]
     },
     "metadata": {},
     "output_type": "display_data"
    }
   ],
   "source": [
    "sns.scatterplot(data=df, x='x', y='y');"
   ]
  },
  {
   "cell_type": "markdown",
   "metadata": {},
   "source": [
    "<hr>\n",
    "\n",
    "Алгоритм кластеризации clusterization() выглядит следующим образом:  \n",
    "Мы принимаем параметры df (с массивами значений x, y), а также clusters - число кластеров которые мы будем искать.  \n",
    "\n",
    "Создаём список названия осей координат.  \n",
    "\n",
    "Функция first_centroid() принимает данные координат и возвращает случайные первичные значения центройдов, а также список с их именами. \n",
    "\n",
    "Далее идет сам цикл подбора центройдов и определения кластера для каждой координаты while:  \n",
    "Мы сохраняем последнее значение centroids в current_centroids, для последующего сравнения. \n",
    "\n",
    "С помощью функции cluster_update() мы получаем датафрейм, который включает:  \n",
    "\\- координаты  \n",
    "\\- Евклидово расстояние от координат до каждого центройда  \n",
    "\\- названием ближайшего кластера к которому определены координаты для каждой точки  \n",
    "\n",
    "Собираем датафрейм с координатами центройдов\n",
    "\n",
    "<hr>\n",
    "\n",
    "Каждый кластер определяется центройдом и наиболее близко расположенным к нему облаку точек.  \n",
    "\n",
    "По сути алгоритм заключается в том что центройды должны поделить все точки между собой таким образом, чтобы повторная итерация цикла while не давала изменения в переопределении значений координат центройдов - в этом случае это будет означать что кластеры определены и цикл должен прерваться.\n",
    "\n",
    "Функция clusterization() возвращает датафрейм с координатами и названием кластера для каждой координаты, а также датафрейм с центройдами."
   ]
  },
  {
   "cell_type": "code",
   "execution_count": 66,
   "metadata": {},
   "outputs": [],
   "source": [
    "def clusterization(df, clusters): \n",
    "    axis = df.columns.to_list()\n",
    "    # определяем первые значения центройдов\n",
    "    centroids = first_centroid(df, clusters)[0]\n",
    "    cnames = first_centroid(df, clusters)[1]\n",
    "    while True:\n",
    "        # считаем евклидово расстояние до центройдов\n",
    "        current_centroids = centroids.copy()\n",
    "        clustered = cluster_update(df, current_centroids, axis)\n",
    "        # получаем средние значения кластеров\n",
    "        centroids = means_clusters(clustered, cnames)\n",
    "        if centroids == current_centroids:\n",
    "            break\n",
    "    # собираем центройды в датафрейм\n",
    "    data = []\n",
    "    for i in centroids:\n",
    "        data.append(i[1])\n",
    "    df_centroids = pd.DataFrame(data=data, columns=axis)\n",
    "    df_centroids['centroids'] = cnames\n",
    "    return {'data': clustered, 'centroids': df_centroids}"
   ]
  },
  {
   "cell_type": "markdown",
   "metadata": {},
   "source": [
    "Ниже рассмотрим каждую функцию по отдельности.  \n",
    "<hr>\n",
    "Функция first_centroid() возврщает набор  координат для каждого центройда.  \n",
    "Первичные координаты определяются равномерным распределением значений по каждой оси методом квантилей.\n",
    "Например если распределение значений по оси х от 0 до 100 а кластеров должно быть 3, то значение для центройдов по оси x , будет 25, 50 и 75, аналогично и для других осей согласно их распределениям.\n",
    "Это не пренципильно потому, что в процессе переопределения координат центройдов они в любом случае изменятся.  \n",
    "\n",
    "В качестве примера мы судем строить три кластера, соответственно для начала попросим приготовить координаты трёх центройдов"
   ]
  },
  {
   "cell_type": "code",
   "execution_count": 67,
   "metadata": {
    "scrolled": true
   },
   "outputs": [
    {
     "data": {
      "text/plain": [
       "([['C1', [4.988922093021953, 6.165445305223434]],\n",
       "  ['C2', [8.276083348762793, 9.271751618612221]],\n",
       "  ['C3', [11.419474874207697, 11.890005389244132]]],\n",
       " ['C1', 'C2', 'C3'])"
      ]
     },
     "execution_count": 67,
     "metadata": {},
     "output_type": "execute_result"
    }
   ],
   "source": [
    "def first_centroid(df, clusters):\n",
    "    axis = df.columns.to_list()\n",
    "    data = []\n",
    "    for a in axis:\n",
    "        data.append(statistics.quantiles(df[a], n=clusters+1))\n",
    "    centroids = []\n",
    "    cnames = []\n",
    "    for a in range(clusters):\n",
    "        cname = 'C' + str(a+1)\n",
    "        coordinates = []\n",
    "        for d in data:\n",
    "            coordinates.append(d[a])\n",
    "        centroids.append([cname, coordinates])\n",
    "        cnames.append(cname)\n",
    "    return [centroids, cnames]\n",
    "\n",
    "centroids = first_centroid(df, 3)[0]\n",
    "cnames = first_centroid(df, 3)[1]\n",
    "\n",
    "centroids, cnames"
   ]
  },
  {
   "cell_type": "markdown",
   "metadata": {},
   "source": [
    "В ответе под индексом \\[0\\] мы получаем координаты центройдов, под индексом \\[1\\] их имена. "
   ]
  },
  {
   "cell_type": "markdown",
   "metadata": {},
   "source": [
    "<hr>\n",
    "\n",
    "Собственно функция для определения расстояния.  \n",
    "Здесь мы построчно сравниваем значения колонок C1, C2 и C3, а в колонку cluster записываем название той колонки значение которой меньшее из всех кластеров, тем самым определяя к какому кластеру пренадлежат координаты каждой строки."
   ]
  },
  {
   "cell_type": "code",
   "execution_count": 68,
   "metadata": {},
   "outputs": [],
   "source": [
    "def get_cluster(clusters):\n",
    "    i = 0\n",
    "    cluster_name = ''\n",
    "    cluster_value = 0\n",
    "    for name, value in clusters.items():\n",
    "        if i == 0:\n",
    "            cluster_name = name\n",
    "            cluster_value = value\n",
    "            i += 1\n",
    "        else:\n",
    "            if value < cluster_value:\n",
    "                cluster_name = name\n",
    "                cluster_value = value\n",
    "    return cluster_name"
   ]
  },
  {
   "cell_type": "markdown",
   "metadata": {},
   "source": [
    " <hr>\n",
    "\n",
    "Функция cluster_update() перебирает датафрейм по строкам. \n",
    "\n",
    "В процессе обработки новые данные для каждой строки постепенно добавляются в словарь new_row, а в конце перебора дополненый датафрейм построчно собирается заново.  \n",
    "\\- переменная row хранит координаты, их мы добавляем в первую очередь  \n",
    "\\- затем мы определяем Евклидово расстояние от координаты до центройда, мы это делаем для каждого центройда по очереди, по формуле:  \n",
    "\n",
    "<img src='https://encrypted-tbn0.gstatic.com/images?q=tbn:ANd9GcSv1ymHbY7ecuBOJMQzckZIkfKfOLgTvt3IJg&usqp=CAU' width=320, heigth=240>\n",
    "\n",
    "попутно каждое Евклидово расстояние мы аккуратно складываем в словарь clusters, для того чтобы когда мы соберём все расстояния до кластеров для каждой координаты - мы сравним их и через функцию get_cluster() определим самое меньшее тем самым указав в столбце clusters имя кластера к которому она пренадлежит."
   ]
  },
  {
   "cell_type": "code",
   "execution_count": 69,
   "metadata": {},
   "outputs": [
    {
     "name": "stdout",
     "output_type": "stream",
     "text": [
      "\n",
      "таблица выгладит так:\n"
     ]
    },
    {
     "data": {
      "text/html": [
       "<div>\n",
       "<style scoped>\n",
       "    .dataframe tbody tr th:only-of-type {\n",
       "        vertical-align: middle;\n",
       "    }\n",
       "\n",
       "    .dataframe tbody tr th {\n",
       "        vertical-align: top;\n",
       "    }\n",
       "\n",
       "    .dataframe thead th {\n",
       "        text-align: right;\n",
       "    }\n",
       "</style>\n",
       "<table border=\"1\" class=\"dataframe\">\n",
       "  <thead>\n",
       "    <tr style=\"text-align: right;\">\n",
       "      <th></th>\n",
       "      <th>x</th>\n",
       "      <th>y</th>\n",
       "      <th>C1</th>\n",
       "      <th>C2</th>\n",
       "      <th>C3</th>\n",
       "      <th>cluster</th>\n",
       "    </tr>\n",
       "  </thead>\n",
       "  <tbody>\n",
       "    <tr>\n",
       "      <th>0</th>\n",
       "      <td>4.276266</td>\n",
       "      <td>1.382421</td>\n",
       "      <td>4.835824</td>\n",
       "      <td>8.845342</td>\n",
       "      <td>12.705698</td>\n",
       "      <td>C1</td>\n",
       "    </tr>\n",
       "    <tr>\n",
       "      <th>1</th>\n",
       "      <td>2.145372</td>\n",
       "      <td>7.683220</td>\n",
       "      <td>3.223262</td>\n",
       "      <td>6.333171</td>\n",
       "      <td>10.183616</td>\n",
       "      <td>C1</td>\n",
       "    </tr>\n",
       "    <tr>\n",
       "      <th>2</th>\n",
       "      <td>4.623901</td>\n",
       "      <td>3.177418</td>\n",
       "      <td>3.010240</td>\n",
       "      <td>7.104881</td>\n",
       "      <td>11.049389</td>\n",
       "      <td>C1</td>\n",
       "    </tr>\n",
       "    <tr>\n",
       "      <th>3</th>\n",
       "      <td>5.145311</td>\n",
       "      <td>2.028150</td>\n",
       "      <td>4.140250</td>\n",
       "      <td>7.891230</td>\n",
       "      <td>11.688513</td>\n",
       "      <td>C1</td>\n",
       "    </tr>\n",
       "    <tr>\n",
       "      <th>4</th>\n",
       "      <td>5.037190</td>\n",
       "      <td>3.780744</td>\n",
       "      <td>2.385190</td>\n",
       "      <td>6.375076</td>\n",
       "      <td>10.319577</td>\n",
       "      <td>C1</td>\n",
       "    </tr>\n",
       "  </tbody>\n",
       "</table>\n",
       "</div>"
      ],
      "text/plain": [
       "          x         y        C1        C2         C3 cluster\n",
       "0  4.276266  1.382421  4.835824  8.845342  12.705698      C1\n",
       "1  2.145372  7.683220  3.223262  6.333171  10.183616      C1\n",
       "2  4.623901  3.177418  3.010240  7.104881  11.049389      C1\n",
       "3  5.145311  2.028150  4.140250  7.891230  11.688513      C1\n",
       "4  5.037190  3.780744  2.385190  6.375076  10.319577      C1"
      ]
     },
     "execution_count": 69,
     "metadata": {},
     "output_type": "execute_result"
    }
   ],
   "source": [
    "def cluster_update(df, centroids, axis):\n",
    "    # добавляем евклидово расстояние до центройдов\n",
    "    data = []\n",
    "    for r in range(len(df)):\n",
    "        row = df.loc[r]\n",
    "        new_row = {}\n",
    "        # добавляем оси\n",
    "        for a in range(len(row)):\n",
    "            new_row[row.index[a]] = row[a]\n",
    "        data.append(new_row)\n",
    "        # добавляем евклидово расстояние до каждого кластера\n",
    "        clusters = {}\n",
    "        for c in range(len(centroids)):\n",
    "            name_centroid = centroids[c][0]\n",
    "            result = []\n",
    "            for a in range(len(row)):\n",
    "                diff = row[a] - centroids[c][1][a]\n",
    "                result.append(diff)\n",
    "            euclid = sum(np.array(result)**2)**0.5\n",
    "            # добавляем центройды\n",
    "            new_row[name_centroid] = euclid\n",
    "            clusters[name_centroid] = euclid\n",
    "        # подбираем текущий кластер\n",
    "        new_row['cluster'] = get_cluster(clusters)\n",
    "    return pd.DataFrame(data)\n",
    "\n",
    "\n",
    "axis = df.columns.to_list()\n",
    "\n",
    "print('\\nтаблица выгладит так:')\n",
    "df = cluster_update(df, centroids, axis)\n",
    "df.head()"
   ]
  },
  {
   "cell_type": "markdown",
   "metadata": {},
   "source": [
    "<hr>\n",
    "Функция means_clusters() выполняет обработку датафрейма полученного функцией cluster_update.\n",
    "Суть переопределения новых координат для центройдов достаточно проста:  \n",
    "Мы группируем данные по колонке cluster, при этом в сагригированных данных для каждого кластера в итоге мы получаем среднее значение каждой координатной оси - это и есть наши новые координаты.\n",
    "\n",
    "Точка центройда какбы переползает по координатной плоскости ориентируясь на максимальный захват соседних точек, но так как центройдов несколько и у части окружающих точек Евклидово расстояние ближе до какого-то определённого центройда кластеры распределяют точки равномерно."
   ]
  },
  {
   "cell_type": "code",
   "execution_count": 70,
   "metadata": {},
   "outputs": [
    {
     "data": {
      "text/plain": [
       "[['C1', [4.212410276999089, 4.115998093756059]],\n",
       " ['C2', [7.265286445034083, 9.330839544388464]],\n",
       " ['C3', [11.446105070397715, 12.063727045143201]]]"
      ]
     },
     "execution_count": 70,
     "metadata": {},
     "output_type": "execute_result"
    }
   ],
   "source": [
    "def means_clusters(df, cnames):\n",
    "    df.drop(cnames, axis=1, inplace=True)\n",
    "    axis = df.columns.to_list()\n",
    "    axis.remove('cluster')\n",
    "    df = df.groupby('cluster')[axis].agg('mean')\n",
    "    means = []\n",
    "    for c in cnames:\n",
    "        axis_values = []\n",
    "        for a in axis:\n",
    "            axis_values.append(df.loc[c][a])\n",
    "        means.append([c, axis_values])\n",
    "    return means\n",
    "\n",
    "means_clusters(df, cnames)"
   ]
  },
  {
   "cell_type": "markdown",
   "metadata": {},
   "source": [
    "Всё вместе это выглядит так:"
   ]
  },
  {
   "cell_type": "code",
   "execution_count": 71,
   "metadata": {
    "scrolled": false
   },
   "outputs": [],
   "source": [
    "def first_centroid(df, clusters):\n",
    "    axis = df.columns.to_list()\n",
    "    data = []\n",
    "    for a in axis:\n",
    "        data.append(statistics.quantiles(df[a], n=clusters+1))\n",
    "    centroids = []\n",
    "    cnames = []\n",
    "    for a in range(clusters):\n",
    "        cname = 'C' + str(a+1)\n",
    "        coordinates = []\n",
    "        for d in data:\n",
    "            coordinates.append(d[a])\n",
    "        centroids.append([cname, coordinates])\n",
    "        cnames.append(cname)\n",
    "    return [centroids, cnames]\n",
    "\n",
    "\n",
    "def get_cluster(clusters):\n",
    "    i = 0\n",
    "    cluster_name = ''\n",
    "    cluster_value = 0\n",
    "    for name, value in clusters.items():\n",
    "        if i == 0:\n",
    "            cluster_name = name\n",
    "            cluster_value = value\n",
    "            i += 1\n",
    "        else:\n",
    "            if value < cluster_value:\n",
    "                cluster_name = name\n",
    "                cluster_value = value\n",
    "    return cluster_name\n",
    "\n",
    "\n",
    "def cluster_update(df, centroids, axis):\n",
    "    # добавляем евклидово расстояние до центройдов\n",
    "    data = []\n",
    "    for r in range(len(df)):\n",
    "        row = df.loc[r]\n",
    "        new_row = {}\n",
    "        # добавляем оси\n",
    "        for a in range(len(row)):\n",
    "            new_row[row.index[a]] = row[a]\n",
    "        data.append(new_row)\n",
    "        # добавляем евклидово расстояние до каждого кластера\n",
    "        clusters = {}\n",
    "        for c in range(len(centroids)):\n",
    "            name_centroid = centroids[c][0]\n",
    "            result = []\n",
    "            for a in range(len(row)):\n",
    "                diff = row[a] - centroids[c][1][a]\n",
    "                result.append(diff)\n",
    "            euclid = sum(np.array(result)**2)**0.5\n",
    "            # добавляем центройды\n",
    "            new_row[name_centroid] = euclid\n",
    "            clusters[name_centroid] = euclid\n",
    "        # подбираем текущий кластер\n",
    "        new_row['cluster'] = get_cluster(clusters)\n",
    "    return pd.DataFrame(data)\n",
    "\n",
    "\n",
    "def means_clusters(df, cnames):\n",
    "    df.drop(cnames, axis=1, inplace=True)\n",
    "    axis = df.columns.to_list()\n",
    "    axis.remove('cluster')\n",
    "    df = df.groupby('cluster')[axis].agg('mean')\n",
    "    means = []\n",
    "    for c in cnames:\n",
    "        axis_values = []\n",
    "        for a in axis:\n",
    "            axis_values.append(df.loc[c][a])\n",
    "        means.append([c, axis_values])\n",
    "    return means\n",
    "    \n",
    "def clusterization(df, clusters): \n",
    "    axis = df.columns.to_list()\n",
    "    # определяем первые значения центройдов\n",
    "    centroids = first_centroid(df, clusters)[0]\n",
    "    cnames = first_centroid(df, clusters)[1]\n",
    "    while True:\n",
    "        # считаем евклидово расстояние до центройдов\n",
    "        current_centroids = centroids.copy()\n",
    "        clustered = cluster_update(df, current_centroids, axis)\n",
    "        # получаем средние значения кластеров\n",
    "        centroids = means_clusters(clustered, cnames)\n",
    "        if centroids == current_centroids:\n",
    "            break\n",
    "    # собираем центройды в датафрейм\n",
    "    data = []\n",
    "    for i in centroids:\n",
    "        data.append(i[1])\n",
    "    df_centroids = pd.DataFrame(data=data, columns=axis)\n",
    "    df_centroids['centroids'] = cnames\n",
    "    return {'data': clustered, 'centroids': df_centroids}"
   ]
  },
  {
   "cell_type": "markdown",
   "metadata": {},
   "source": [
    "Мы вызовем функцию clusterization() и попросим разделить координаты на 3 кластера"
   ]
  },
  {
   "cell_type": "code",
   "execution_count": 74,
   "metadata": {
    "scrolled": false
   },
   "outputs": [
    {
     "data": {
      "text/html": [
       "<div>\n",
       "<style scoped>\n",
       "    .dataframe tbody tr th:only-of-type {\n",
       "        vertical-align: middle;\n",
       "    }\n",
       "\n",
       "    .dataframe tbody tr th {\n",
       "        vertical-align: top;\n",
       "    }\n",
       "\n",
       "    .dataframe thead th {\n",
       "        text-align: right;\n",
       "    }\n",
       "</style>\n",
       "<table border=\"1\" class=\"dataframe\">\n",
       "  <thead>\n",
       "    <tr style=\"text-align: right;\">\n",
       "      <th></th>\n",
       "      <th>x</th>\n",
       "      <th>y</th>\n",
       "    </tr>\n",
       "  </thead>\n",
       "  <tbody>\n",
       "    <tr>\n",
       "      <th>0</th>\n",
       "      <td>4.276266</td>\n",
       "      <td>1.382421</td>\n",
       "    </tr>\n",
       "    <tr>\n",
       "      <th>1</th>\n",
       "      <td>2.145372</td>\n",
       "      <td>7.683220</td>\n",
       "    </tr>\n",
       "    <tr>\n",
       "      <th>2</th>\n",
       "      <td>4.623901</td>\n",
       "      <td>3.177418</td>\n",
       "    </tr>\n",
       "    <tr>\n",
       "      <th>3</th>\n",
       "      <td>5.145311</td>\n",
       "      <td>2.028150</td>\n",
       "    </tr>\n",
       "    <tr>\n",
       "      <th>4</th>\n",
       "      <td>5.037190</td>\n",
       "      <td>3.780744</td>\n",
       "    </tr>\n",
       "  </tbody>\n",
       "</table>\n",
       "</div>"
      ],
      "text/plain": [
       "          x         y\n",
       "0  4.276266  1.382421\n",
       "1  2.145372  7.683220\n",
       "2  4.623901  3.177418\n",
       "3  5.145311  2.028150\n",
       "4  5.037190  3.780744"
      ]
     },
     "metadata": {},
     "output_type": "display_data"
    },
    {
     "data": {
      "text/html": [
       "<div>\n",
       "<style scoped>\n",
       "    .dataframe tbody tr th:only-of-type {\n",
       "        vertical-align: middle;\n",
       "    }\n",
       "\n",
       "    .dataframe tbody tr th {\n",
       "        vertical-align: top;\n",
       "    }\n",
       "\n",
       "    .dataframe thead th {\n",
       "        text-align: right;\n",
       "    }\n",
       "</style>\n",
       "<table border=\"1\" class=\"dataframe\">\n",
       "  <thead>\n",
       "    <tr style=\"text-align: right;\">\n",
       "      <th></th>\n",
       "      <th>x</th>\n",
       "      <th>y</th>\n",
       "      <th>cluster</th>\n",
       "    </tr>\n",
       "  </thead>\n",
       "  <tbody>\n",
       "    <tr>\n",
       "      <th>0</th>\n",
       "      <td>4.276266</td>\n",
       "      <td>1.382421</td>\n",
       "      <td>C1</td>\n",
       "    </tr>\n",
       "    <tr>\n",
       "      <th>1</th>\n",
       "      <td>2.145372</td>\n",
       "      <td>7.683220</td>\n",
       "      <td>C2</td>\n",
       "    </tr>\n",
       "    <tr>\n",
       "      <th>2</th>\n",
       "      <td>4.623901</td>\n",
       "      <td>3.177418</td>\n",
       "      <td>C1</td>\n",
       "    </tr>\n",
       "    <tr>\n",
       "      <th>3</th>\n",
       "      <td>5.145311</td>\n",
       "      <td>2.028150</td>\n",
       "      <td>C1</td>\n",
       "    </tr>\n",
       "    <tr>\n",
       "      <th>4</th>\n",
       "      <td>5.037190</td>\n",
       "      <td>3.780744</td>\n",
       "      <td>C1</td>\n",
       "    </tr>\n",
       "  </tbody>\n",
       "</table>\n",
       "</div>"
      ],
      "text/plain": [
       "          x         y cluster\n",
       "0  4.276266  1.382421      C1\n",
       "1  2.145372  7.683220      C2\n",
       "2  4.623901  3.177418      C1\n",
       "3  5.145311  2.028150      C1\n",
       "4  5.037190  3.780744      C1"
      ]
     },
     "metadata": {},
     "output_type": "display_data"
    },
    {
     "data": {
      "text/html": [
       "<div>\n",
       "<style scoped>\n",
       "    .dataframe tbody tr th:only-of-type {\n",
       "        vertical-align: middle;\n",
       "    }\n",
       "\n",
       "    .dataframe tbody tr th {\n",
       "        vertical-align: top;\n",
       "    }\n",
       "\n",
       "    .dataframe thead th {\n",
       "        text-align: right;\n",
       "    }\n",
       "</style>\n",
       "<table border=\"1\" class=\"dataframe\">\n",
       "  <thead>\n",
       "    <tr style=\"text-align: right;\">\n",
       "      <th></th>\n",
       "      <th>x</th>\n",
       "      <th>y</th>\n",
       "      <th>centroids</th>\n",
       "    </tr>\n",
       "  </thead>\n",
       "  <tbody>\n",
       "    <tr>\n",
       "      <th>0</th>\n",
       "      <td>4.091202</td>\n",
       "      <td>2.975784</td>\n",
       "      <td>C1</td>\n",
       "    </tr>\n",
       "    <tr>\n",
       "      <th>1</th>\n",
       "      <td>5.970509</td>\n",
       "      <td>8.876121</td>\n",
       "      <td>C2</td>\n",
       "    </tr>\n",
       "    <tr>\n",
       "      <th>2</th>\n",
       "      <td>11.396381</td>\n",
       "      <td>11.853803</td>\n",
       "      <td>C3</td>\n",
       "    </tr>\n",
       "  </tbody>\n",
       "</table>\n",
       "</div>"
      ],
      "text/plain": [
       "           x          y centroids\n",
       "0   4.091202   2.975784        C1\n",
       "1   5.970509   8.876121        C2\n",
       "2  11.396381  11.853803        C3"
      ]
     },
     "metadata": {},
     "output_type": "display_data"
    }
   ],
   "source": [
    "# создадим данные\n",
    "df = pd.DataFrame([i for i in zip(x, y)], columns=['x', 'y'])\n",
    "\n",
    "# кластеризуем\n",
    "result = clusterization(df, 3)\n",
    "\n",
    "# посмотрим на результат\n",
    "data = result['data']\n",
    "centroids = result['centroids']\n",
    "display(df.head())\n",
    "display(data.head())\n",
    "display(centroids)"
   ]
  },
  {
   "cell_type": "markdown",
   "metadata": {},
   "source": [
    "Нарисуем"
   ]
  },
  {
   "cell_type": "code",
   "execution_count": 75,
   "metadata": {},
   "outputs": [
    {
     "data": {
      "image/png": "[encoded data removed]",
      "text/plain": [
       "<Figure size 700x700 with 1 Axes>"
      ]
     },
     "metadata": {},
     "output_type": "display_data"
    }
   ],
   "source": [
    "sns.scatterplot(data=data, x='x', y='y', hue='cluster');\n",
    "sns.scatterplot(data=centroids, x='x', y='y', color='black');"
   ]
  },
  {
   "cell_type": "code",
   "execution_count": null,
   "metadata": {},
   "outputs": [],
   "source": []
  },
  {
   "cell_type": "code",
   "execution_count": null,
   "metadata": {},
   "outputs": [],
   "source": []
  }
 ],
 "metadata": {
  "kernelspec": {
   "display_name": "Python 3 (ipykernel)",
   "language": "python",
   "name": "python3"
  },
  "language_info": {
   "codemirror_mode": {
    "name": "ipython",
    "version": 3
   },
   "file_extension": ".py",
   "mimetype": "text/x-python",
   "name": "python",
   "nbconvert_exporter": "python",
   "pygments_lexer": "ipython3",
   "version": "3.10.9"
  }
 },
 "nbformat": 4,
 "nbformat_minor": 4
}
