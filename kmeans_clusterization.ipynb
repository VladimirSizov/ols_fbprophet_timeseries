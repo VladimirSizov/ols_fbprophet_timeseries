{
 "cells": [
  {
   "cell_type": "markdown",
   "metadata": {},
   "source": [
    "# Кластеризация K-средних\n",
    "автор: [Владимир Сизов](mailto:vladimirsizov@yandex.ru)\n",
    "\n",
    "Кластеризация K-средних распространённый алгоритм неконтролируемого машинного обучения.  \n",
    "Определение кластеров осуществляется на схожести данных у экземпляров. \n",
    "\n",
    "Ниже мы подробно рассмотрим метод подбора координат центройдов, разделения данных на кластеры, а также нарисуем результат на графике.\n",
    "\n",
    "<hr>\n",
    "\n",
    "Для работы этого алгоритма необходимо заранее определить количество кластеров.  "
   ]
  },
  {
   "cell_type": "markdown",
   "metadata": {},
   "source": [
    "Импортируем необходимые библиотеки"
   ]
  },
  {
   "cell_type": "code",
   "execution_count": 134,
   "metadata": {},
   "outputs": [],
   "source": [
    "import pandas as pd\n",
    "import numpy as np\n",
    "\n",
    "import seaborn as sns\n",
    "sns.set(style='whitegrid', rc={'figure.figsize': (7, 7)})"
   ]
  },
  {
   "cell_type": "markdown",
   "metadata": {},
   "source": [
    "При использовании этого алгоритма данные для кластеризации можно задавать в формате: \\[x, y, z, ...\\] \n",
    "\n",
    "В качестве примера мы сгенерируем двумерный массив \\[x, y\\]"
   ]
  },
  {
   "cell_type": "code",
   "execution_count": 135,
   "metadata": {
    "scrolled": true
   },
   "outputs": [
    {
     "data": {
      "text/html": [
       "<div>\n",
       "<style scoped>\n",
       "    .dataframe tbody tr th:only-of-type {\n",
       "        vertical-align: middle;\n",
       "    }\n",
       "\n",
       "    .dataframe tbody tr th {\n",
       "        vertical-align: top;\n",
       "    }\n",
       "\n",
       "    .dataframe thead th {\n",
       "        text-align: right;\n",
       "    }\n",
       "</style>\n",
       "<table border=\"1\" class=\"dataframe\">\n",
       "  <thead>\n",
       "    <tr style=\"text-align: right;\">\n",
       "      <th></th>\n",
       "      <th>x</th>\n",
       "      <th>y</th>\n",
       "    </tr>\n",
       "  </thead>\n",
       "  <tbody>\n",
       "    <tr>\n",
       "      <th>0</th>\n",
       "      <td>4.276266</td>\n",
       "      <td>1.382421</td>\n",
       "    </tr>\n",
       "    <tr>\n",
       "      <th>1</th>\n",
       "      <td>2.145372</td>\n",
       "      <td>7.683220</td>\n",
       "    </tr>\n",
       "    <tr>\n",
       "      <th>2</th>\n",
       "      <td>4.623901</td>\n",
       "      <td>3.177418</td>\n",
       "    </tr>\n",
       "    <tr>\n",
       "      <th>3</th>\n",
       "      <td>5.145311</td>\n",
       "      <td>2.028150</td>\n",
       "    </tr>\n",
       "    <tr>\n",
       "      <th>4</th>\n",
       "      <td>5.037190</td>\n",
       "      <td>3.780744</td>\n",
       "    </tr>\n",
       "  </tbody>\n",
       "</table>\n",
       "</div>"
      ],
      "text/plain": [
       "          x         y\n",
       "0  4.276266  1.382421\n",
       "1  2.145372  7.683220\n",
       "2  4.623901  3.177418\n",
       "3  5.145311  2.028150\n",
       "4  5.037190  3.780744"
      ]
     },
     "execution_count": 135,
     "metadata": {},
     "output_type": "execute_result"
    }
   ],
   "source": [
    "np.random.seed(17)\n",
    "\n",
    "x = [4, 6, 10, 13]\n",
    "y = [3, 9, 14, 10]\n",
    "\n",
    "cluster_x = []\n",
    "cluster_y = []\n",
    "\n",
    "for i in zip(x, y):\n",
    "    cluster_x.append(np.random.normal(i[0], 1, 40))\n",
    "    cluster_y.append(np.random.normal(i[1], 1.4, 40))\n",
    "\n",
    "x = np.concatenate(cluster_x)\n",
    "y = np.concatenate(cluster_y)\n",
    "\n",
    "df = pd.DataFrame([i for i in zip(x, y)], columns=['x', 'y'])\n",
    "df.head()"
   ]
  },
  {
   "cell_type": "markdown",
   "metadata": {},
   "source": [
    "Посмотрим как данные выглядят на графике:"
   ]
  },
  {
   "cell_type": "code",
   "execution_count": 136,
   "metadata": {
    "scrolled": false
   },
   "outputs": [
    {
     "data": {
      "image/png": "[encoded data removed]",
      "text/plain": [
       "<Figure size 504x504 with 1 Axes>"
      ]
     },
     "metadata": {},
     "output_type": "display_data"
    }
   ],
   "source": [
    "sns.scatterplot(data=df, x='x', y='y');"
   ]
  },
  {
   "cell_type": "markdown",
   "metadata": {},
   "source": [
    "<hr>\n",
    "\n",
    "Алгоритм кластеризации clusterization() выглядит следующим образом:  \n",
    "Мы принимаем параметры df (с массивами значений x, y), а также clusters - число кластеров которые мы будем искать.  \n",
    "Также мы сообщаем, хотим ли мы добавить в данные координаты центройдов add_centroid=True\n",
    "\n",
    "Создаём список названия осей координат.  \n",
    "\n",
    "Функция first_centroid() принимает данные координат и возвращает случайные первичные значения центройдов, а также список с их именами. \n",
    "\n",
    "Далее идет сам цикл подбора центройдов и определения кластера для каждой координаты while:  \n",
    "Мы сохраняем последнее значение centroids в current_centroids, для последующего сравнения. \n",
    "\n",
    "С помощью функции cluster_update() мы получаем датафрейм, который включает:  \n",
    "\\- координаты  \n",
    "\\- Евклидово расстояние от координат до каждого центройда  \n",
    "\\- названием ближайшего кластера к которому определены координаты для каждой точки  \n",
    "\n",
    "С помощью функции means_clusters() мы получаем новые координаты для центройдов\n",
    "\n",
    "<hr>\n",
    "\n",
    "Каждый кластер определяется центройдом и наиболее близко расположенным к нему облаку точек.  \n",
    "\n",
    "По сути алгоритм заключается в том что центройды должны поделить все точки между собой таким образом, чтобы повторная итерация цикла while не давала изменения в переопределении значений координат центройдов - в этом случае это будет означать что кластеры определены и цикл должен прерваться.\n",
    "\n",
    "Если мы хотим чтобы в наши данные добавили центройды - это сделает функция add_centroids() \n",
    "\n",
    "Функция clusterization() возвращает датафрейм с координатами и названием кластера для каждой координаты."
   ]
  },
  {
   "cell_type": "code",
   "execution_count": 137,
   "metadata": {},
   "outputs": [],
   "source": [
    "def clusterization(df, clusters, add_centroid=False): \n",
    "    axis = df.columns.to_list()\n",
    "    # определяем первые значения центройдов\n",
    "    centroids = first_centroid(df, clusters)[0]\n",
    "    cnames = first_centroid(df, clusters)[1]\n",
    "    while True:\n",
    "        # считаем евклидово расстояние до центройдов\n",
    "        current_centroids = centroids.copy()\n",
    "        clustered = cluster_update(df, current_centroids, axis)\n",
    "        # получаем средние значения кластеров\n",
    "        centroids = means_clusters(clustered, cnames)\n",
    "        if centroids == current_centroids:\n",
    "            break\n",
    "    if add_centroid == True:\n",
    "        clustered = add_centroids(centroids, clustered)\n",
    "    return clustered"
   ]
  },
  {
   "cell_type": "markdown",
   "metadata": {},
   "source": [
    "Ниже рассмотрим каждую функцию по отдельности.  \n",
    "<hr>\n",
    "Функция first_centroid() по сути возврщает первые попавшиеся координаты, это не пренципильно потому, что в процессе переопределения координат центройдов они в любом случае изменятся.  \n",
    "\n",
    "В качестве примера мы судем строить три кластера, соответственно для начала попросим приготовить координаты трёх центройдов"
   ]
  },
  {
   "cell_type": "code",
   "execution_count": 138,
   "metadata": {
    "scrolled": true
   },
   "outputs": [
    {
     "data": {
      "text/plain": [
       "([['C1', [4.276265890021318, 1.382421387245445]],\n",
       "  ['C2', [2.1453719211934947, 7.68322035286412]],\n",
       "  ['C3', [4.623901111326356, 3.17741809574377]]],\n",
       " ['C1', 'C2', 'C3'])"
      ]
     },
     "execution_count": 138,
     "metadata": {},
     "output_type": "execute_result"
    }
   ],
   "source": [
    "def first_centroid(df, clusters):\n",
    "    axis = df.columns.to_list()\n",
    "    centroids = []\n",
    "    cnames = []\n",
    "    for c in range(clusters):\n",
    "        cname = 'C' + str(c+1)\n",
    "        centroid = []\n",
    "        for a in range(len(axis)):\n",
    "            centroid.append(df.loc[c][axis[a]])\n",
    "        centroids.append([cname, centroid])\n",
    "        cnames.append(cname)\n",
    "    return [centroids, cnames]\n",
    "\n",
    "\n",
    "centroids = first_centroid(df, 3)[0]\n",
    "cnames = first_centroid(df, 3)[1]\n",
    "\n",
    "centroids, cnames"
   ]
  },
  {
   "cell_type": "markdown",
   "metadata": {},
   "source": [
    "В ответе под индексом \\[0\\] мы получаем координаты центройдов, под индексом \\[1\\] их имена.  \n",
    "\n",
    "<hr>\n",
    "\n",
    "Функция cluster_update() перебирает датафрейм по строкам. \n",
    "\n",
    "В процессе обработки новые данные для каждой строки постепенно добавляются в словарь new_row, а в конце перебора дополненый датафрейм построчно собирается заново.  \n",
    "\\- переменная row хранит координаты, их мы добавляем в первую очередь  \n",
    "\\- затем мы определяем Евклидово расстояние от координаты до центройда, мы это делаем для каждого центройда по очереди, по формуле:  \n",
    "\n",
    "<img src='https://encrypted-tbn0.gstatic.com/images?q=tbn:ANd9GcSv1ymHbY7ecuBOJMQzckZIkfKfOLgTvt3IJg&usqp=CAU' width=320, heigth=240>\n",
    "\n",
    "попутно каждое Евклидово расстояние мы аккуратно складываем в словарь clusters, для того чтобы когда мы соберём все расстояния до кластеров для каждой координаты - мы сравним их и через функцию get_cluster() определим самое меньшее тем самым указав в столбце clusters имя кластера к которому она пренадлежит."
   ]
  },
  {
   "cell_type": "code",
   "execution_count": 139,
   "metadata": {},
   "outputs": [
    {
     "name": "stdout",
     "output_type": "stream",
     "text": [
      "\n",
      "таблица выгладит так:\n"
     ]
    },
    {
     "data": {
      "text/html": [
       "<div>\n",
       "<style scoped>\n",
       "    .dataframe tbody tr th:only-of-type {\n",
       "        vertical-align: middle;\n",
       "    }\n",
       "\n",
       "    .dataframe tbody tr th {\n",
       "        vertical-align: top;\n",
       "    }\n",
       "\n",
       "    .dataframe thead th {\n",
       "        text-align: right;\n",
       "    }\n",
       "</style>\n",
       "<table border=\"1\" class=\"dataframe\">\n",
       "  <thead>\n",
       "    <tr style=\"text-align: right;\">\n",
       "      <th></th>\n",
       "      <th>x</th>\n",
       "      <th>y</th>\n",
       "      <th>C1</th>\n",
       "      <th>C2</th>\n",
       "      <th>C3</th>\n",
       "      <th>cluster</th>\n",
       "    </tr>\n",
       "  </thead>\n",
       "  <tbody>\n",
       "    <tr>\n",
       "      <th>0</th>\n",
       "      <td>4.276266</td>\n",
       "      <td>1.382421</td>\n",
       "      <td>0.000000</td>\n",
       "      <td>6.651374</td>\n",
       "      <td>1.828350</td>\n",
       "      <td>C1</td>\n",
       "    </tr>\n",
       "    <tr>\n",
       "      <th>1</th>\n",
       "      <td>2.145372</td>\n",
       "      <td>7.683220</td>\n",
       "      <td>6.651374</td>\n",
       "      <td>0.000000</td>\n",
       "      <td>5.142505</td>\n",
       "      <td>C2</td>\n",
       "    </tr>\n",
       "    <tr>\n",
       "      <th>2</th>\n",
       "      <td>4.623901</td>\n",
       "      <td>3.177418</td>\n",
       "      <td>1.828350</td>\n",
       "      <td>5.142505</td>\n",
       "      <td>0.000000</td>\n",
       "      <td>C3</td>\n",
       "    </tr>\n",
       "    <tr>\n",
       "      <th>3</th>\n",
       "      <td>5.145311</td>\n",
       "      <td>2.028150</td>\n",
       "      <td>1.082684</td>\n",
       "      <td>6.401520</td>\n",
       "      <td>1.262017</td>\n",
       "      <td>C1</td>\n",
       "    </tr>\n",
       "    <tr>\n",
       "      <th>4</th>\n",
       "      <td>5.037190</td>\n",
       "      <td>3.780744</td>\n",
       "      <td>2.516140</td>\n",
       "      <td>4.857153</td>\n",
       "      <td>0.731307</td>\n",
       "      <td>C3</td>\n",
       "    </tr>\n",
       "  </tbody>\n",
       "</table>\n",
       "</div>"
      ],
      "text/plain": [
       "          x         y        C1        C2        C3 cluster\n",
       "0  4.276266  1.382421  0.000000  6.651374  1.828350      C1\n",
       "1  2.145372  7.683220  6.651374  0.000000  5.142505      C2\n",
       "2  4.623901  3.177418  1.828350  5.142505  0.000000      C3\n",
       "3  5.145311  2.028150  1.082684  6.401520  1.262017      C1\n",
       "4  5.037190  3.780744  2.516140  4.857153  0.731307      C3"
      ]
     },
     "execution_count": 139,
     "metadata": {},
     "output_type": "execute_result"
    }
   ],
   "source": [
    "def cluster_update(df, centroids, axis):\n",
    "    # добавляем евклидово расстояние до центройдов\n",
    "    data = []\n",
    "    for r in range(len(df)):\n",
    "        row = df.loc[r]\n",
    "        new_row = {}\n",
    "        # добавляем оси\n",
    "        for a in range(len(row)):\n",
    "            new_row[row.index[a]] = row[a]\n",
    "        data.append(new_row)\n",
    "        # добавляем евклидово расстояние до каждого кластера\n",
    "        clusters = {}\n",
    "        for c in range(len(centroids)):\n",
    "            name_centroid = centroids[c][0]\n",
    "            result = []\n",
    "            for a in range(len(row)):\n",
    "                diff = row[a] - centroids[c][1][a]\n",
    "                result.append(diff)\n",
    "            euclid = sum(np.array(result)**2)**0.5\n",
    "            # добавляем центройды\n",
    "            new_row[name_centroid] = euclid\n",
    "            clusters[name_centroid] = euclid\n",
    "        # подбираем текущий кластер\n",
    "        new_row['cluster'] = get_cluster(clusters)\n",
    "    return pd.DataFrame(data)\n",
    "\n",
    "\n",
    "axis = df.columns.to_list()\n",
    "\n",
    "print('\\nтаблица выгладит так:')\n",
    "df = cluster_update(df, centroids, axis).head()\n",
    "df"
   ]
  },
  {
   "cell_type": "markdown",
   "metadata": {},
   "source": [
    "<hr>\n",
    "\n",
    "Собственно функция для определения расстояния.  \n",
    "Здесь мы построчно сравниваем значения колонок C1, C2 и C3, а в колонку cluster записываем название той колонки значение которой меньшее из всех кластеров, тем самым определяя к какому кластеру пренадлежат координаты каждой строки."
   ]
  },
  {
   "cell_type": "code",
   "execution_count": 140,
   "metadata": {},
   "outputs": [],
   "source": [
    "def get_cluster(clusters):\n",
    "    i = 0\n",
    "    cluster_name = ''\n",
    "    cluster_value = 0\n",
    "    for name, value in clusters.items():\n",
    "        if i == 0:\n",
    "            cluster_name = name\n",
    "            cluster_value = value\n",
    "            i += 1\n",
    "        else:\n",
    "            if value < cluster_value:\n",
    "                cluster_name = name\n",
    "                cluster_value = value\n",
    "    return cluster_name"
   ]
  },
  {
   "cell_type": "markdown",
   "metadata": {},
   "source": [
    "<hr>\n",
    "Функция means_clusters() выполняет обработку датафрейма полученного функцией cluster_update.\n",
    "Суть переопределения новых координат для центройдов достаточно проста:  \n",
    "Мы группируем данные по колонке cluster, при этом в сагригированных данных для каждого кластера в итоге мы получаем среднее значение каждой координатной оси - это и есть наши новые координаты.\n",
    "\n",
    "Точка центройда какбы переползает по координатной плоскости ориентируясь на максимальный захват соседних точек, но так как центройдов несколько и у части окружающих точек Евклидово расстояние ближе до какого-то определённого центройда кластеры распределяют точки равномерно."
   ]
  },
  {
   "cell_type": "code",
   "execution_count": 141,
   "metadata": {
    "scrolled": true
   },
   "outputs": [
    {
     "data": {
      "text/plain": [
       "[['C1', [4.710788589796705, 1.7052854661138659]],\n",
       " ['C2', [2.1453719211934947, 7.68322035286412]],\n",
       " ['C3', [4.830545789777119, 3.4790811494994984]]]"
      ]
     },
     "execution_count": 141,
     "metadata": {},
     "output_type": "execute_result"
    }
   ],
   "source": [
    "def means_clusters(df, cnames):\n",
    "    df.drop(cnames, axis=1, inplace=True)\n",
    "    axis = df.columns.to_list()\n",
    "    axis.remove('cluster')\n",
    "    df = df.groupby('cluster')[axis].agg('mean')\n",
    "    means = []\n",
    "    for c in cnames:\n",
    "        axis_values = []\n",
    "        for a in axis:\n",
    "            axis_values.append(df.loc[c][a])\n",
    "        means.append([c, axis_values])\n",
    "    return means\n",
    "\n",
    "means_clusters(df, cnames)"
   ]
  },
  {
   "cell_type": "markdown",
   "metadata": {},
   "source": [
    "<hr>\n",
    "\n",
    "Как мы помним, если мы хотим чтобы на графике были также отображены центройды, мы можем пеедать в качестве параметра add_centroid=True к функции clusterization()\n",
    "\n",
    "Работу по добавлению центройдов выполняет функция add_centroids()\n",
    "Эта функция получает готовый датафрейм, и дописывает в качестве одного из кластеров с  именем centroids координаты центройдов"
   ]
  },
  {
   "cell_type": "code",
   "execution_count": 142,
   "metadata": {},
   "outputs": [],
   "source": [
    "def add_centroids(centroids, clustered):\n",
    "    rows = []\n",
    "    for c in centroids:\n",
    "        name_centroid = c[0]\n",
    "        row = []\n",
    "        for  coordinate in c[1]:\n",
    "            row.append(coordinate)\n",
    "        row.append('centroids')\n",
    "        clustered.loc[ len(clustered.index )] = row\n",
    "    return clustered"
   ]
  },
  {
   "cell_type": "markdown",
   "metadata": {},
   "source": [
    "Всё вместе это выглядит так:"
   ]
  },
  {
   "cell_type": "code",
   "execution_count": 143,
   "metadata": {
    "scrolled": false
   },
   "outputs": [],
   "source": [
    "def first_centroid(df, clusters):\n",
    "    axis = df.columns.to_list()\n",
    "    centroids = []\n",
    "    cnames = []\n",
    "    for c in range(clusters):\n",
    "        cname = 'C' + str(c+1)\n",
    "        centroid = []\n",
    "        for a in range(len(axis)):\n",
    "            centroid.append(df.loc[c][axis[a]])\n",
    "        centroids.append([cname, centroid])\n",
    "        cnames.append(cname)\n",
    "    return [centroids, cnames]\n",
    "\n",
    "\n",
    "def get_cluster(clusters):\n",
    "    i = 0\n",
    "    cluster_name = ''\n",
    "    cluster_value = 0\n",
    "    for name, value in clusters.items():\n",
    "        if i == 0:\n",
    "            cluster_name = name\n",
    "            cluster_value = value\n",
    "            i += 1\n",
    "        else:\n",
    "            if value < cluster_value:\n",
    "                cluster_name = name\n",
    "                cluster_value = value\n",
    "    return cluster_name\n",
    "\n",
    "\n",
    "def cluster_update(df, centroids, axis):\n",
    "    # добавляем евклидово расстояние до центройдов\n",
    "    data = []\n",
    "    for r in range(len(df)):\n",
    "        row = df.loc[r]\n",
    "        new_row = {}\n",
    "        # добавляем оси\n",
    "        for a in range(len(row)):\n",
    "            new_row[row.index[a]] = row[a]\n",
    "        data.append(new_row)\n",
    "        # добавляем евклидово расстояние до каждого кластера\n",
    "        clusters = {}\n",
    "        for c in range(len(centroids)):\n",
    "            name_centroid = centroids[c][0]\n",
    "            result = []\n",
    "            for a in range(len(row)):\n",
    "                diff = row[a] - centroids[c][1][a]\n",
    "                result.append(diff)\n",
    "            euclid = sum(np.array(result)**2)**0.5\n",
    "            # добавляем центройды\n",
    "            new_row[name_centroid] = euclid\n",
    "            clusters[name_centroid] = euclid\n",
    "        # подбираем текущий кластер\n",
    "        new_row['cluster'] = get_cluster(clusters)\n",
    "    return pd.DataFrame(data)\n",
    "\n",
    "\n",
    "def means_clusters(df, cnames):\n",
    "    df.drop(cnames, axis=1, inplace=True)\n",
    "    axis = df.columns.to_list()\n",
    "    axis.remove('cluster')\n",
    "    df = df.groupby('cluster')[axis].agg('mean')\n",
    "    means = []\n",
    "    for c in cnames:\n",
    "        axis_values = []\n",
    "        for a in axis:\n",
    "            axis_values.append(df.loc[c][a])\n",
    "        means.append([c, axis_values])\n",
    "    return means\n",
    "\n",
    "\n",
    "def add_centroids(centroids, clustered):\n",
    "    rows = []\n",
    "    for c in centroids:\n",
    "        name_centroid = c[0]\n",
    "        row = []\n",
    "        for  coordinate in c[1]:\n",
    "            row.append(coordinate)\n",
    "        row.append('centroids')\n",
    "        clustered.loc[ len(clustered.index )] = row\n",
    "    return clustered\n",
    "\n",
    "    \n",
    "def clusterization(df, clusters, add_centroid=False): \n",
    "    axis = df.columns.to_list()\n",
    "    # определяем первые значения центройдов\n",
    "    centroids = first_centroid(df, clusters)[0]\n",
    "    cnames = first_centroid(df, clusters)[1]\n",
    "    while True:\n",
    "        # считаем евклидово расстояние до центройдов\n",
    "        current_centroids = centroids.copy()\n",
    "        clustered = cluster_update(df, current_centroids, axis)\n",
    "        # получаем средние значения кластеров\n",
    "        centroids = means_clusters(clustered, cnames)\n",
    "        if centroids == current_centroids:\n",
    "            break\n",
    "    if add_centroid == True:\n",
    "        clustered = add_centroids(centroids, clustered)\n",
    "    return clustered"
   ]
  },
  {
   "cell_type": "markdown",
   "metadata": {},
   "source": [
    "Мы вызовем функцию clusterization() и попросим разделить координаты на 3 кластера"
   ]
  },
  {
   "cell_type": "code",
   "execution_count": 144,
   "metadata": {
    "scrolled": true
   },
   "outputs": [
    {
     "data": {
      "text/html": [
       "<div>\n",
       "<style scoped>\n",
       "    .dataframe tbody tr th:only-of-type {\n",
       "        vertical-align: middle;\n",
       "    }\n",
       "\n",
       "    .dataframe tbody tr th {\n",
       "        vertical-align: top;\n",
       "    }\n",
       "\n",
       "    .dataframe thead th {\n",
       "        text-align: right;\n",
       "    }\n",
       "</style>\n",
       "<table border=\"1\" class=\"dataframe\">\n",
       "  <thead>\n",
       "    <tr style=\"text-align: right;\">\n",
       "      <th></th>\n",
       "      <th>x</th>\n",
       "      <th>y</th>\n",
       "      <th>cluster</th>\n",
       "    </tr>\n",
       "  </thead>\n",
       "  <tbody>\n",
       "    <tr>\n",
       "      <th>153</th>\n",
       "      <td>13.975275</td>\n",
       "      <td>9.976784</td>\n",
       "      <td>C3</td>\n",
       "    </tr>\n",
       "    <tr>\n",
       "      <th>154</th>\n",
       "      <td>13.738482</td>\n",
       "      <td>10.759248</td>\n",
       "      <td>C3</td>\n",
       "    </tr>\n",
       "    <tr>\n",
       "      <th>155</th>\n",
       "      <td>11.460976</td>\n",
       "      <td>9.620952</td>\n",
       "      <td>C3</td>\n",
       "    </tr>\n",
       "    <tr>\n",
       "      <th>156</th>\n",
       "      <td>12.385329</td>\n",
       "      <td>8.378493</td>\n",
       "      <td>C3</td>\n",
       "    </tr>\n",
       "    <tr>\n",
       "      <th>157</th>\n",
       "      <td>13.208148</td>\n",
       "      <td>10.178403</td>\n",
       "      <td>C3</td>\n",
       "    </tr>\n",
       "    <tr>\n",
       "      <th>158</th>\n",
       "      <td>12.812098</td>\n",
       "      <td>9.580945</td>\n",
       "      <td>C3</td>\n",
       "    </tr>\n",
       "    <tr>\n",
       "      <th>159</th>\n",
       "      <td>12.136830</td>\n",
       "      <td>8.458143</td>\n",
       "      <td>C3</td>\n",
       "    </tr>\n",
       "    <tr>\n",
       "      <th>160</th>\n",
       "      <td>4.699489</td>\n",
       "      <td>5.021778</td>\n",
       "      <td>centroids</td>\n",
       "    </tr>\n",
       "    <tr>\n",
       "      <th>161</th>\n",
       "      <td>8.932836</td>\n",
       "      <td>13.029020</td>\n",
       "      <td>centroids</td>\n",
       "    </tr>\n",
       "    <tr>\n",
       "      <th>162</th>\n",
       "      <td>12.855044</td>\n",
       "      <td>9.540528</td>\n",
       "      <td>centroids</td>\n",
       "    </tr>\n",
       "  </tbody>\n",
       "</table>\n",
       "</div>"
      ],
      "text/plain": [
       "             x          y    cluster\n",
       "153  13.975275   9.976784         C3\n",
       "154  13.738482  10.759248         C3\n",
       "155  11.460976   9.620952         C3\n",
       "156  12.385329   8.378493         C3\n",
       "157  13.208148  10.178403         C3\n",
       "158  12.812098   9.580945         C3\n",
       "159  12.136830   8.458143         C3\n",
       "160   4.699489   5.021778  centroids\n",
       "161   8.932836  13.029020  centroids\n",
       "162  12.855044   9.540528  centroids"
      ]
     },
     "execution_count": 144,
     "metadata": {},
     "output_type": "execute_result"
    }
   ],
   "source": [
    "df = pd.DataFrame([i for i in zip(x, y)], columns=['x', 'y'])\n",
    "data = clusterization(df, 3, add_centroid=True)\n",
    "\n",
    "data.tail(10)"
   ]
  },
  {
   "cell_type": "markdown",
   "metadata": {},
   "source": [
    "На выходе мы получаем кластеризованый датафрейм.\n",
    "Теперь скаттерплот нарисует разным цветом наши кластеры."
   ]
  },
  {
   "cell_type": "code",
   "execution_count": 145,
   "metadata": {},
   "outputs": [
    {
     "data": {
      "image/png": "[encoded data removed]",
      "text/plain": [
       "<Figure size 504x504 with 1 Axes>"
      ]
     },
     "metadata": {},
     "output_type": "display_data"
    }
   ],
   "source": [
    "sns.scatterplot(data=data, x='x', y='y', hue='cluster');"
   ]
  },
  {
   "cell_type": "code",
   "execution_count": null,
   "metadata": {},
   "outputs": [],
   "source": []
  },
  {
   "cell_type": "code",
   "execution_count": null,
   "metadata": {},
   "outputs": [],
   "source": []
  }
 ],
 "metadata": {
  "kernelspec": {
   "display_name": "Python 3",
   "language": "python",
   "name": "python3"
  },
  "language_info": {
   "codemirror_mode": {
    "name": "ipython",
    "version": 3
   },
   "file_extension": ".py",
   "mimetype": "text/x-python",
   "name": "python",
   "nbconvert_exporter": "python",
   "pygments_lexer": "ipython3",
   "version": "3.7.3"
  }
 },
 "nbformat": 4,
 "nbformat_minor": 4
}
